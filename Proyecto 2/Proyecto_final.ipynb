{
 "cells": [
  {
   "attachments": {},
   "cell_type": "markdown",
   "metadata": {},
   "source": [
    "<!-- <div style=\"background-color:rgb(60,179,113,0.3)\"> -->\n",
    "<div style=\"background-color:#107acc\">\n",
    "\n",
    "<hr style=\"color:white\">\n",
    "\n",
    "# <span style=\"color:white\"><center> Proyecto Final\n",
    "## <span style=\"color:white\"><center> Eduardo Alberto Domínguez Fontes\n",
    "\n",
    "<hr style=\"color:white\">\n",
    "</div>"
   ]
  },
  {
   "cell_type": "code",
   "execution_count": 1,
   "metadata": {},
   "outputs": [],
   "source": [
    "# Lectura de datos\n",
    "import pandas as pd\n",
    "import numpy as np\n",
    "\n",
    "# Modelos\n",
    "from sklearn.linear_model import LogisticRegression\n",
    "from sklearn.ensemble import RandomForestClassifier\n",
    "from sklearn.tree import DecisionTreeClassifier\n",
    "from sklearn.svm import SVC, LinearSVC\n",
    "from sklearn.naive_bayes import GaussianNB\n",
    "from sklearn.neighbors import KNeighborsClassifier\n",
    "import tensorflow as tf\n",
    "from keras.models import Sequential\n",
    "from keras.layers import Dense, Dropout\n",
    "\n",
    "# Métricas, pipe, imputación, reescalamiento \n",
    "from sklearn.model_selection import KFold, cross_val_score, GridSearchCV,RepeatedKFold,train_test_split\n",
    "from sklearn.pipeline import make_pipeline\n",
    "from sklearn.impute import KNNImputer\n",
    "from sklearn.preprocessing import StandardScaler, MinMaxScaler\n",
    "\n",
    "# Gráficas\n",
    "import matplotlib.pyplot as plt\n",
    "import seaborn as sns"
   ]
  },
  {
   "attachments": {},
   "cell_type": "markdown",
   "metadata": {},
   "source": [
    "## <span style=\"color:blue\">La base de datos está compuesta por los siguientes atributos:\n",
    "\n",
    " - Evaluación BI-RADS: 1 a 5 (ordinal).\n",
    " - Edad: edad del paciente en años (entero)\n",
    " - Forma: forma de la masa: redonda=1 ovalada=2 lobular=3 irregular=4 (nominal)\n",
    " - Margen: margen de masa: circunscrito=1 microlobulado=2 oscurecido=3 mal definido=4 espiculado=5 (nominal).\n",
    " - Densidad: densidad de masa alta = 1 iso = 2 baja = 3 que contiene grasa = 4 (ordinal)\n",
    " - Gravedad: benigno=0 o maligno=1 (binomial) (Target)"
   ]
  },
  {
   "cell_type": "code",
   "execution_count": 2,
   "metadata": {},
   "outputs": [
    {
     "data": {
      "text/html": [
       "<div>\n",
       "<style scoped>\n",
       "    .dataframe tbody tr th:only-of-type {\n",
       "        vertical-align: middle;\n",
       "    }\n",
       "\n",
       "    .dataframe tbody tr th {\n",
       "        vertical-align: top;\n",
       "    }\n",
       "\n",
       "    .dataframe thead th {\n",
       "        text-align: right;\n",
       "    }\n",
       "</style>\n",
       "<table border=\"1\" class=\"dataframe\">\n",
       "  <thead>\n",
       "    <tr style=\"text-align: right;\">\n",
       "      <th></th>\n",
       "      <th>Evaluacion_BI-RADS</th>\n",
       "      <th>Edad</th>\n",
       "      <th>Forma</th>\n",
       "      <th>Margen</th>\n",
       "      <th>Densidad</th>\n",
       "      <th>Gravedad</th>\n",
       "    </tr>\n",
       "  </thead>\n",
       "  <tbody>\n",
       "    <tr>\n",
       "      <th>0</th>\n",
       "      <td>5.0</td>\n",
       "      <td>67.0</td>\n",
       "      <td>3.0</td>\n",
       "      <td>5.0</td>\n",
       "      <td>3.0</td>\n",
       "      <td>1</td>\n",
       "    </tr>\n",
       "    <tr>\n",
       "      <th>1</th>\n",
       "      <td>4.0</td>\n",
       "      <td>43.0</td>\n",
       "      <td>1.0</td>\n",
       "      <td>1.0</td>\n",
       "      <td>NaN</td>\n",
       "      <td>1</td>\n",
       "    </tr>\n",
       "    <tr>\n",
       "      <th>2</th>\n",
       "      <td>5.0</td>\n",
       "      <td>58.0</td>\n",
       "      <td>4.0</td>\n",
       "      <td>5.0</td>\n",
       "      <td>3.0</td>\n",
       "      <td>1</td>\n",
       "    </tr>\n",
       "    <tr>\n",
       "      <th>3</th>\n",
       "      <td>4.0</td>\n",
       "      <td>28.0</td>\n",
       "      <td>1.0</td>\n",
       "      <td>1.0</td>\n",
       "      <td>3.0</td>\n",
       "      <td>0</td>\n",
       "    </tr>\n",
       "    <tr>\n",
       "      <th>4</th>\n",
       "      <td>5.0</td>\n",
       "      <td>74.0</td>\n",
       "      <td>1.0</td>\n",
       "      <td>5.0</td>\n",
       "      <td>NaN</td>\n",
       "      <td>1</td>\n",
       "    </tr>\n",
       "    <tr>\n",
       "      <th>...</th>\n",
       "      <td>...</td>\n",
       "      <td>...</td>\n",
       "      <td>...</td>\n",
       "      <td>...</td>\n",
       "      <td>...</td>\n",
       "      <td>...</td>\n",
       "    </tr>\n",
       "    <tr>\n",
       "      <th>956</th>\n",
       "      <td>4.0</td>\n",
       "      <td>47.0</td>\n",
       "      <td>2.0</td>\n",
       "      <td>1.0</td>\n",
       "      <td>3.0</td>\n",
       "      <td>0</td>\n",
       "    </tr>\n",
       "    <tr>\n",
       "      <th>957</th>\n",
       "      <td>4.0</td>\n",
       "      <td>56.0</td>\n",
       "      <td>4.0</td>\n",
       "      <td>5.0</td>\n",
       "      <td>3.0</td>\n",
       "      <td>1</td>\n",
       "    </tr>\n",
       "    <tr>\n",
       "      <th>958</th>\n",
       "      <td>4.0</td>\n",
       "      <td>64.0</td>\n",
       "      <td>4.0</td>\n",
       "      <td>5.0</td>\n",
       "      <td>3.0</td>\n",
       "      <td>0</td>\n",
       "    </tr>\n",
       "    <tr>\n",
       "      <th>959</th>\n",
       "      <td>5.0</td>\n",
       "      <td>66.0</td>\n",
       "      <td>4.0</td>\n",
       "      <td>5.0</td>\n",
       "      <td>3.0</td>\n",
       "      <td>1</td>\n",
       "    </tr>\n",
       "    <tr>\n",
       "      <th>960</th>\n",
       "      <td>4.0</td>\n",
       "      <td>62.0</td>\n",
       "      <td>3.0</td>\n",
       "      <td>3.0</td>\n",
       "      <td>3.0</td>\n",
       "      <td>0</td>\n",
       "    </tr>\n",
       "  </tbody>\n",
       "</table>\n",
       "<p>961 rows × 6 columns</p>\n",
       "</div>"
      ],
      "text/plain": [
       "     Evaluacion_BI-RADS  Edad  Forma  Margen  Densidad  Gravedad\n",
       "0                   5.0  67.0    3.0     5.0       3.0         1\n",
       "1                   4.0  43.0    1.0     1.0       NaN         1\n",
       "2                   5.0  58.0    4.0     5.0       3.0         1\n",
       "3                   4.0  28.0    1.0     1.0       3.0         0\n",
       "4                   5.0  74.0    1.0     5.0       NaN         1\n",
       "..                  ...   ...    ...     ...       ...       ...\n",
       "956                 4.0  47.0    2.0     1.0       3.0         0\n",
       "957                 4.0  56.0    4.0     5.0       3.0         1\n",
       "958                 4.0  64.0    4.0     5.0       3.0         0\n",
       "959                 5.0  66.0    4.0     5.0       3.0         1\n",
       "960                 4.0  62.0    3.0     3.0       3.0         0\n",
       "\n",
       "[961 rows x 6 columns]"
      ]
     },
     "execution_count": 2,
     "metadata": {},
     "output_type": "execute_result"
    }
   ],
   "source": [
    "atributos=[\"Evaluacion_BI-RADS\",\"Edad\",\"Forma\",\"Margen\",\"Densidad\",\"Gravedad\"]\n",
    "data=pd.read_csv(\"mammographic_masses.data.csv\",names=atributos)\n",
    "data"
   ]
  },
  {
   "cell_type": "code",
   "execution_count": 3,
   "metadata": {},
   "outputs": [
    {
     "data": {
      "text/html": [
       "<div>\n",
       "<style scoped>\n",
       "    .dataframe tbody tr th:only-of-type {\n",
       "        vertical-align: middle;\n",
       "    }\n",
       "\n",
       "    .dataframe tbody tr th {\n",
       "        vertical-align: top;\n",
       "    }\n",
       "\n",
       "    .dataframe thead th {\n",
       "        text-align: right;\n",
       "    }\n",
       "</style>\n",
       "<table border=\"1\" class=\"dataframe\">\n",
       "  <thead>\n",
       "    <tr style=\"text-align: right;\">\n",
       "      <th></th>\n",
       "      <th>Edad</th>\n",
       "      <th>Forma</th>\n",
       "      <th>Margen</th>\n",
       "      <th>Densidad</th>\n",
       "      <th>Gravedad</th>\n",
       "    </tr>\n",
       "  </thead>\n",
       "  <tbody>\n",
       "    <tr>\n",
       "      <th>0</th>\n",
       "      <td>67.0</td>\n",
       "      <td>3.0</td>\n",
       "      <td>5.0</td>\n",
       "      <td>3.0</td>\n",
       "      <td>1</td>\n",
       "    </tr>\n",
       "    <tr>\n",
       "      <th>1</th>\n",
       "      <td>43.0</td>\n",
       "      <td>1.0</td>\n",
       "      <td>1.0</td>\n",
       "      <td>NaN</td>\n",
       "      <td>1</td>\n",
       "    </tr>\n",
       "    <tr>\n",
       "      <th>2</th>\n",
       "      <td>58.0</td>\n",
       "      <td>4.0</td>\n",
       "      <td>5.0</td>\n",
       "      <td>3.0</td>\n",
       "      <td>1</td>\n",
       "    </tr>\n",
       "    <tr>\n",
       "      <th>3</th>\n",
       "      <td>28.0</td>\n",
       "      <td>1.0</td>\n",
       "      <td>1.0</td>\n",
       "      <td>3.0</td>\n",
       "      <td>0</td>\n",
       "    </tr>\n",
       "    <tr>\n",
       "      <th>4</th>\n",
       "      <td>74.0</td>\n",
       "      <td>1.0</td>\n",
       "      <td>5.0</td>\n",
       "      <td>NaN</td>\n",
       "      <td>1</td>\n",
       "    </tr>\n",
       "    <tr>\n",
       "      <th>...</th>\n",
       "      <td>...</td>\n",
       "      <td>...</td>\n",
       "      <td>...</td>\n",
       "      <td>...</td>\n",
       "      <td>...</td>\n",
       "    </tr>\n",
       "    <tr>\n",
       "      <th>956</th>\n",
       "      <td>47.0</td>\n",
       "      <td>2.0</td>\n",
       "      <td>1.0</td>\n",
       "      <td>3.0</td>\n",
       "      <td>0</td>\n",
       "    </tr>\n",
       "    <tr>\n",
       "      <th>957</th>\n",
       "      <td>56.0</td>\n",
       "      <td>4.0</td>\n",
       "      <td>5.0</td>\n",
       "      <td>3.0</td>\n",
       "      <td>1</td>\n",
       "    </tr>\n",
       "    <tr>\n",
       "      <th>958</th>\n",
       "      <td>64.0</td>\n",
       "      <td>4.0</td>\n",
       "      <td>5.0</td>\n",
       "      <td>3.0</td>\n",
       "      <td>0</td>\n",
       "    </tr>\n",
       "    <tr>\n",
       "      <th>959</th>\n",
       "      <td>66.0</td>\n",
       "      <td>4.0</td>\n",
       "      <td>5.0</td>\n",
       "      <td>3.0</td>\n",
       "      <td>1</td>\n",
       "    </tr>\n",
       "    <tr>\n",
       "      <th>960</th>\n",
       "      <td>62.0</td>\n",
       "      <td>3.0</td>\n",
       "      <td>3.0</td>\n",
       "      <td>3.0</td>\n",
       "      <td>0</td>\n",
       "    </tr>\n",
       "  </tbody>\n",
       "</table>\n",
       "<p>961 rows × 5 columns</p>\n",
       "</div>"
      ],
      "text/plain": [
       "     Edad  Forma  Margen  Densidad  Gravedad\n",
       "0    67.0    3.0     5.0       3.0         1\n",
       "1    43.0    1.0     1.0       NaN         1\n",
       "2    58.0    4.0     5.0       3.0         1\n",
       "3    28.0    1.0     1.0       3.0         0\n",
       "4    74.0    1.0     5.0       NaN         1\n",
       "..    ...    ...     ...       ...       ...\n",
       "956  47.0    2.0     1.0       3.0         0\n",
       "957  56.0    4.0     5.0       3.0         1\n",
       "958  64.0    4.0     5.0       3.0         0\n",
       "959  66.0    4.0     5.0       3.0         1\n",
       "960  62.0    3.0     3.0       3.0         0\n",
       "\n",
       "[961 rows x 5 columns]"
      ]
     },
     "execution_count": 3,
     "metadata": {},
     "output_type": "execute_result"
    }
   ],
   "source": [
    "# BI-RADS es una evaluación de cuán confiable es la clasificación de gravedad; no es un atributo \"predictivo\" por lo que se descarta.\n",
    "del data[\"Evaluacion_BI-RADS\"]\n",
    "data"
   ]
  },
  {
   "cell_type": "code",
   "execution_count": 4,
   "metadata": {},
   "outputs": [
    {
     "name": "stdout",
     "output_type": "stream",
     "text": [
      "<class 'pandas.core.frame.DataFrame'>\n",
      "RangeIndex: 961 entries, 0 to 960\n",
      "Data columns (total 5 columns):\n",
      " #   Column    Non-Null Count  Dtype  \n",
      "---  ------    --------------  -----  \n",
      " 0   Edad      956 non-null    float64\n",
      " 1   Forma     930 non-null    float64\n",
      " 2   Margen    913 non-null    float64\n",
      " 3   Densidad  885 non-null    float64\n",
      " 4   Gravedad  961 non-null    int64  \n",
      "dtypes: float64(4), int64(1)\n",
      "memory usage: 37.7 KB\n"
     ]
    }
   ],
   "source": [
    "data.info()"
   ]
  },
  {
   "cell_type": "code",
   "execution_count": 5,
   "metadata": {},
   "outputs": [
    {
     "data": {
      "text/html": [
       "<div>\n",
       "<style scoped>\n",
       "    .dataframe tbody tr th:only-of-type {\n",
       "        vertical-align: middle;\n",
       "    }\n",
       "\n",
       "    .dataframe tbody tr th {\n",
       "        vertical-align: top;\n",
       "    }\n",
       "\n",
       "    .dataframe thead th {\n",
       "        text-align: right;\n",
       "    }\n",
       "</style>\n",
       "<table border=\"1\" class=\"dataframe\">\n",
       "  <thead>\n",
       "    <tr style=\"text-align: right;\">\n",
       "      <th></th>\n",
       "      <th>Edad</th>\n",
       "      <th>Forma</th>\n",
       "      <th>Margen</th>\n",
       "      <th>Densidad</th>\n",
       "      <th>Gravedad</th>\n",
       "    </tr>\n",
       "  </thead>\n",
       "  <tbody>\n",
       "    <tr>\n",
       "      <th>count</th>\n",
       "      <td>956.000000</td>\n",
       "      <td>930.000000</td>\n",
       "      <td>913.000000</td>\n",
       "      <td>885.000000</td>\n",
       "      <td>961.000000</td>\n",
       "    </tr>\n",
       "    <tr>\n",
       "      <th>mean</th>\n",
       "      <td>55.487448</td>\n",
       "      <td>2.721505</td>\n",
       "      <td>2.796276</td>\n",
       "      <td>2.910734</td>\n",
       "      <td>0.463059</td>\n",
       "    </tr>\n",
       "    <tr>\n",
       "      <th>std</th>\n",
       "      <td>14.480131</td>\n",
       "      <td>1.242792</td>\n",
       "      <td>1.566546</td>\n",
       "      <td>0.380444</td>\n",
       "      <td>0.498893</td>\n",
       "    </tr>\n",
       "    <tr>\n",
       "      <th>min</th>\n",
       "      <td>18.000000</td>\n",
       "      <td>1.000000</td>\n",
       "      <td>1.000000</td>\n",
       "      <td>1.000000</td>\n",
       "      <td>0.000000</td>\n",
       "    </tr>\n",
       "    <tr>\n",
       "      <th>25%</th>\n",
       "      <td>45.000000</td>\n",
       "      <td>2.000000</td>\n",
       "      <td>1.000000</td>\n",
       "      <td>3.000000</td>\n",
       "      <td>0.000000</td>\n",
       "    </tr>\n",
       "    <tr>\n",
       "      <th>50%</th>\n",
       "      <td>57.000000</td>\n",
       "      <td>3.000000</td>\n",
       "      <td>3.000000</td>\n",
       "      <td>3.000000</td>\n",
       "      <td>0.000000</td>\n",
       "    </tr>\n",
       "    <tr>\n",
       "      <th>75%</th>\n",
       "      <td>66.000000</td>\n",
       "      <td>4.000000</td>\n",
       "      <td>4.000000</td>\n",
       "      <td>3.000000</td>\n",
       "      <td>1.000000</td>\n",
       "    </tr>\n",
       "    <tr>\n",
       "      <th>max</th>\n",
       "      <td>96.000000</td>\n",
       "      <td>4.000000</td>\n",
       "      <td>5.000000</td>\n",
       "      <td>4.000000</td>\n",
       "      <td>1.000000</td>\n",
       "    </tr>\n",
       "  </tbody>\n",
       "</table>\n",
       "</div>"
      ],
      "text/plain": [
       "             Edad       Forma      Margen    Densidad    Gravedad\n",
       "count  956.000000  930.000000  913.000000  885.000000  961.000000\n",
       "mean    55.487448    2.721505    2.796276    2.910734    0.463059\n",
       "std     14.480131    1.242792    1.566546    0.380444    0.498893\n",
       "min     18.000000    1.000000    1.000000    1.000000    0.000000\n",
       "25%     45.000000    2.000000    1.000000    3.000000    0.000000\n",
       "50%     57.000000    3.000000    3.000000    3.000000    0.000000\n",
       "75%     66.000000    4.000000    4.000000    3.000000    1.000000\n",
       "max     96.000000    4.000000    5.000000    4.000000    1.000000"
      ]
     },
     "execution_count": 5,
     "metadata": {},
     "output_type": "execute_result"
    }
   ],
   "source": [
    "data.describe()"
   ]
  },
  {
   "cell_type": "code",
   "execution_count": 6,
   "metadata": {},
   "outputs": [
    {
     "name": "stdout",
     "output_type": "stream",
     "text": [
      "4.0    400\n",
      "1.0    224\n",
      "2.0    211\n",
      "3.0     95\n",
      "Name: Forma, dtype: int64\n",
      "------------------------------\n",
      "\n",
      "1.0    357\n",
      "4.0    280\n",
      "5.0    136\n",
      "3.0    116\n",
      "2.0     24\n",
      "Name: Margen, dtype: int64\n",
      "------------------------------\n",
      "\n",
      "3.0    798\n",
      "2.0     59\n",
      "1.0     16\n",
      "4.0     12\n",
      "Name: Densidad, dtype: int64\n"
     ]
    }
   ],
   "source": [
    "# Verificamos si hay valores atípicos en los datos\n",
    "print(data.Forma.value_counts())\n",
    "print(\"------------------------------\\n\")  \n",
    "print(data.Margen.value_counts())\n",
    "print(\"------------------------------\\n\")  \n",
    "print(data.Densidad.value_counts())"
   ]
  },
  {
   "cell_type": "code",
   "execution_count": 7,
   "metadata": {},
   "outputs": [
    {
     "data": {
      "text/plain": [
       "Edad         5\n",
       "Forma       31\n",
       "Margen      48\n",
       "Densidad    76\n",
       "Gravedad     0\n",
       "dtype: int64"
      ]
     },
     "execution_count": 7,
     "metadata": {},
     "output_type": "execute_result"
    }
   ],
   "source": [
    "# Verificamos la cantidad de datos faltantes en cada atributo:\n",
    "data.isna().sum()"
   ]
  },
  {
   "cell_type": "code",
   "execution_count": 8,
   "metadata": {},
   "outputs": [],
   "source": [
    "# Ya que vimos cuántos valores faltan en cada atributo y que la variable de respuesta no muestra valores faltantes, procedemos a separar los datos del target:\n",
    "Y=data.Gravedad\n",
    "del data[\"Gravedad\"]\n",
    "X=data"
   ]
  },
  {
   "cell_type": "code",
   "execution_count": 9,
   "metadata": {},
   "outputs": [
    {
     "data": {
      "text/html": [
       "<div>\n",
       "<style scoped>\n",
       "    .dataframe tbody tr th:only-of-type {\n",
       "        vertical-align: middle;\n",
       "    }\n",
       "\n",
       "    .dataframe tbody tr th {\n",
       "        vertical-align: top;\n",
       "    }\n",
       "\n",
       "    .dataframe thead th {\n",
       "        text-align: right;\n",
       "    }\n",
       "</style>\n",
       "<table border=\"1\" class=\"dataframe\">\n",
       "  <thead>\n",
       "    <tr style=\"text-align: right;\">\n",
       "      <th></th>\n",
       "      <th>Edad</th>\n",
       "      <th>Forma</th>\n",
       "      <th>Margen</th>\n",
       "      <th>Densidad</th>\n",
       "    </tr>\n",
       "  </thead>\n",
       "  <tbody>\n",
       "    <tr>\n",
       "      <th>0</th>\n",
       "      <td>67.0</td>\n",
       "      <td>3.0</td>\n",
       "      <td>5.0</td>\n",
       "      <td>3.0</td>\n",
       "    </tr>\n",
       "    <tr>\n",
       "      <th>1</th>\n",
       "      <td>43.0</td>\n",
       "      <td>1.0</td>\n",
       "      <td>1.0</td>\n",
       "      <td>NaN</td>\n",
       "    </tr>\n",
       "    <tr>\n",
       "      <th>2</th>\n",
       "      <td>58.0</td>\n",
       "      <td>4.0</td>\n",
       "      <td>5.0</td>\n",
       "      <td>3.0</td>\n",
       "    </tr>\n",
       "    <tr>\n",
       "      <th>3</th>\n",
       "      <td>28.0</td>\n",
       "      <td>1.0</td>\n",
       "      <td>1.0</td>\n",
       "      <td>3.0</td>\n",
       "    </tr>\n",
       "    <tr>\n",
       "      <th>4</th>\n",
       "      <td>74.0</td>\n",
       "      <td>1.0</td>\n",
       "      <td>5.0</td>\n",
       "      <td>NaN</td>\n",
       "    </tr>\n",
       "    <tr>\n",
       "      <th>...</th>\n",
       "      <td>...</td>\n",
       "      <td>...</td>\n",
       "      <td>...</td>\n",
       "      <td>...</td>\n",
       "    </tr>\n",
       "    <tr>\n",
       "      <th>956</th>\n",
       "      <td>47.0</td>\n",
       "      <td>2.0</td>\n",
       "      <td>1.0</td>\n",
       "      <td>3.0</td>\n",
       "    </tr>\n",
       "    <tr>\n",
       "      <th>957</th>\n",
       "      <td>56.0</td>\n",
       "      <td>4.0</td>\n",
       "      <td>5.0</td>\n",
       "      <td>3.0</td>\n",
       "    </tr>\n",
       "    <tr>\n",
       "      <th>958</th>\n",
       "      <td>64.0</td>\n",
       "      <td>4.0</td>\n",
       "      <td>5.0</td>\n",
       "      <td>3.0</td>\n",
       "    </tr>\n",
       "    <tr>\n",
       "      <th>959</th>\n",
       "      <td>66.0</td>\n",
       "      <td>4.0</td>\n",
       "      <td>5.0</td>\n",
       "      <td>3.0</td>\n",
       "    </tr>\n",
       "    <tr>\n",
       "      <th>960</th>\n",
       "      <td>62.0</td>\n",
       "      <td>3.0</td>\n",
       "      <td>3.0</td>\n",
       "      <td>3.0</td>\n",
       "    </tr>\n",
       "  </tbody>\n",
       "</table>\n",
       "<p>961 rows × 4 columns</p>\n",
       "</div>"
      ],
      "text/plain": [
       "     Edad  Forma  Margen  Densidad\n",
       "0    67.0    3.0     5.0       3.0\n",
       "1    43.0    1.0     1.0       NaN\n",
       "2    58.0    4.0     5.0       3.0\n",
       "3    28.0    1.0     1.0       3.0\n",
       "4    74.0    1.0     5.0       NaN\n",
       "..    ...    ...     ...       ...\n",
       "956  47.0    2.0     1.0       3.0\n",
       "957  56.0    4.0     5.0       3.0\n",
       "958  64.0    4.0     5.0       3.0\n",
       "959  66.0    4.0     5.0       3.0\n",
       "960  62.0    3.0     3.0       3.0\n",
       "\n",
       "[961 rows x 4 columns]"
      ]
     },
     "execution_count": 9,
     "metadata": {},
     "output_type": "execute_result"
    }
   ],
   "source": [
    "X"
   ]
  },
  {
   "cell_type": "code",
   "execution_count": 10,
   "metadata": {},
   "outputs": [
    {
     "data": {
      "text/plain": [
       "0      1\n",
       "1      1\n",
       "2      1\n",
       "3      0\n",
       "4      1\n",
       "      ..\n",
       "956    0\n",
       "957    1\n",
       "958    0\n",
       "959    1\n",
       "960    0\n",
       "Name: Gravedad, Length: 961, dtype: int64"
      ]
     },
     "execution_count": 10,
     "metadata": {},
     "output_type": "execute_result"
    }
   ],
   "source": [
    "Y"
   ]
  },
  {
   "cell_type": "code",
   "execution_count": 11,
   "metadata": {},
   "outputs": [
    {
     "data": {
      "text/plain": [
       "0    516\n",
       "1    445\n",
       "Name: Gravedad, dtype: int64"
      ]
     },
     "execution_count": 11,
     "metadata": {},
     "output_type": "execute_result"
    }
   ],
   "source": [
    "# Verificamos si los datos de la variable de respuesta muestran algun desbalance:\n",
    "Y.value_counts()"
   ]
  },
  {
   "attachments": {},
   "cell_type": "markdown",
   "metadata": {},
   "source": [
    "Para medir el desempeño predictivo, es necesario contar con los datos completos, para ello podemos seguir una serie de pasos:\n",
    "\n",
    "1.- Dividir el conjunto de datos en entrenamiento y prueba.\n",
    "\n",
    "2.- Completar los datos faltantes en el conjunto de entrenamiento.\n",
    "\n",
    "3.- Entrenar el modelo.\n",
    "\n",
    "4.- Completar datos faltantes en el conjunto de prueba aplicando la estrategia aprendida en el conjunto de entrenamiento.\n",
    "\n",
    "5.- Hacemos las predicciones\n",
    "\n",
    "6.- Medir el desempeño predictivo del modelo\n"
   ]
  },
  {
   "attachments": {},
   "cell_type": "markdown",
   "metadata": {},
   "source": [
    "## <span style=\"color:blue\"> Regresión Logística"
   ]
  },
  {
   "cell_type": "code",
   "execution_count": 37,
   "metadata": {},
   "outputs": [
    {
     "name": "stdout",
     "output_type": "stream",
     "text": [
      "La exactitud promedio obtenida es: 0.7990\n"
     ]
    }
   ],
   "source": [
    "# Definimos la secuencia de pasos para completar, reescalar y entrenar el modelo, a través de un Pipeline:\n",
    "Pipe_RL=make_pipeline(KNNImputer(n_neighbors=3),StandardScaler(),LogisticRegression(solver=\"liblinear\"))\n",
    "\n",
    "# Definimos el esquema de validación cruzada:\n",
    "# cv=KFold(n_splits=10)\n",
    "cv=RepeatedKFold(n_splits=10,n_repeats=5,random_state=1234)\n",
    "\n",
    "# Calificamos el desempeño predictivo del modelo de a cuerdo a su exactitud:\n",
    "scores=cross_val_score(Pipe_RL,X,Y,scoring=\"accuracy\",cv=cv,n_jobs=-1)\n",
    "\n",
    "print(f\"La exactitud promedio obtenida es: {scores.mean():.4f}\")"
   ]
  },
  {
   "attachments": {},
   "cell_type": "markdown",
   "metadata": {},
   "source": [
    "Veremos si es posible mejorar la exactitud del modelo al hacer una calibración de los hiperparámetros mediante una busqueda por rejilla, así como agregar una penalización al modelo, mediante el hiperparámetro C:"
   ]
  },
  {
   "cell_type": "code",
   "execution_count": 38,
   "metadata": {},
   "outputs": [
    {
     "name": "stdout",
     "output_type": "stream",
     "text": [
      "La mejor configuración de hiperparámetros es: {'knnimputer__n_neighbors': 1, 'logisticregression__C': 0.1}\n",
      "El mejor valor de las métricas es: 0.8010481099656357\n"
     ]
    }
   ],
   "source": [
    "# Definimos el espacio de parámetros:\n",
    "espacio_param={\"knnimputer__n_neighbors\":np.arange(1,20,1),\n",
    "               \"logisticregression__C\":[0.000001,0.000001,0.00001,0.0001,0.001,0.01,0.1]}\n",
    "\n",
    "# Definimos los pasos a través del pipeline:\n",
    "Pipe=make_pipeline(KNNImputer(),StandardScaler(),LogisticRegression(solver=\"liblinear\"))\n",
    "\n",
    "# Definimos la rejilla:\n",
    "Rejilla=GridSearchCV(Pipe,param_grid=espacio_param,scoring=\"accuracy\",cv=cv,n_jobs=-1)\n",
    "Rejilla.fit(X,Y)\n",
    "\n",
    "# Imprimimos los resultados:\n",
    "print(f\"La mejor configuración de hiperparámetros es: {Rejilla.best_params_}\")\n",
    "print(f\"El mejor valor de las métricas es: {Rejilla.best_score_}\")\n",
    "rlog=Rejilla.best_score_"
   ]
  },
  {
   "attachments": {},
   "cell_type": "markdown",
   "metadata": {},
   "source": [
    "## <span style=\"color:blue\"> Árbol de decisión"
   ]
  },
  {
   "cell_type": "code",
   "execution_count": 39,
   "metadata": {},
   "outputs": [
    {
     "name": "stdout",
     "output_type": "stream",
     "text": [
      "Mejor calibración de los hiperparámetros: {'decisiontreeclassifier__max_depth': 5, 'decisiontreeclassifier__min_samples_leaf': 19, 'knnimputer__n_neighbors': 13}\n",
      "Mejor valor de las métricas: 0.8087693298969073\n"
     ]
    }
   ],
   "source": [
    "# Vamos a calibrar el modelo, definiendo los pasos para entrenar el modelo a través de un pipeline\n",
    "Pipe_Arbl=make_pipeline(KNNImputer(),StandardScaler(),DecisionTreeClassifier(criterion=\"entropy\"))\n",
    "\n",
    "# Espacio de parámetros\n",
    "Param_Arbol={\"knnimputer__n_neighbors\":np.arange(1,15),\n",
    "               \"decisiontreeclassifier__min_samples_leaf\":np.arange(1,20,2),\n",
    "               \"decisiontreeclassifier__max_depth\":np.arange(1,20,2)}\n",
    "\n",
    "# Rejilla de busqueda\n",
    "Rejilla_Arbol=GridSearchCV(Pipe_Arbl,param_grid=Param_Arbol,scoring=\"accuracy\",cv=cv,n_jobs=-1)\n",
    "Rejilla_Arbol.fit(X,Y)\n",
    "\n",
    "# Imprimimos los resultados\n",
    "print(f\"Mejor calibración de los hiperparámetros: {Rejilla_Arbol.best_params_}\")\n",
    "print(f\"Mejor valor de las métricas: {Rejilla_Arbol.best_score_}\")\n",
    "arbol=Rejilla_Arbol.best_score_"
   ]
  },
  {
   "attachments": {},
   "cell_type": "markdown",
   "metadata": {},
   "source": [
    "## <span style=\"color:blue\"> Bosques Aleatorios:"
   ]
  },
  {
   "cell_type": "code",
   "execution_count": 40,
   "metadata": {},
   "outputs": [
    {
     "name": "stdout",
     "output_type": "stream",
     "text": [
      "Mejor calibración de los hiperparámetros: {'knnimputer__n_neighbors': 3, 'randomforestclassifier__max_depth': 15, 'randomforestclassifier__min_samples_leaf': 11}\n",
      "Mejor valor de las métricas: 0.8112628865979381\n"
     ]
    }
   ],
   "source": [
    "# Calibración del modelo:\n",
    "espacio_param_bosque={\"knnimputer__n_neighbors\":np.arange(1,15,2),\n",
    "               \"randomforestclassifier__max_depth\":np.arange(1,20,2),\n",
    "               \"randomforestclassifier__min_samples_leaf\":np.arange(1,20,2)} \n",
    "\n",
    "# Definimos la sentencia de pasos para entrenar el modelo mediante un pipeline:\n",
    "Pipe_3=make_pipeline(KNNImputer(),StandardScaler(),\n",
    "                   RandomForestClassifier(n_estimators=100,criterion=\"entropy\",class_weight=\"balanced\"))\n",
    "\n",
    "# Rejilla de búsqueda:\n",
    "Rejilla_bosque=GridSearchCV(Pipe_3,param_grid=espacio_param_bosque,scoring=\"accuracy\",cv=cv,n_jobs=-1)\n",
    "Rejilla_bosque.fit(X,Y)\n",
    "\n",
    "# Imprimimos los resultados\n",
    "print(f\"Mejor calibración de los hiperparámetros: {Rejilla_bosque.best_params_}\")\n",
    "print(f\"Mejor valor de las métricas: {Rejilla_bosque.best_score_}\")\n",
    "bosque=Rejilla_bosque.best_score_"
   ]
  },
  {
   "attachments": {},
   "cell_type": "markdown",
   "metadata": {},
   "source": [
    "## <span style=\"color:blue\"> Naive Bayes"
   ]
  },
  {
   "cell_type": "code",
   "execution_count": 41,
   "metadata": {},
   "outputs": [
    {
     "name": "stdout",
     "output_type": "stream",
     "text": [
      "Mejor calibración de los hiperparámetros: {'knnimputer__n_neighbors': 1}\n",
      "Mejor valor de las métricas: 0.7889841065292096\n"
     ]
    }
   ],
   "source": [
    "# Calibración del modelo:\n",
    "espacio_param_naive={\"knnimputer__n_neighbors\":np.arange(1,20)} \n",
    "\n",
    "# Definimos la sentencia de pasos para entrenar el modelo mediante un pipeline, utilizando los atributos del modelo anterior:\n",
    "Pipe_5=make_pipeline(KNNImputer(),StandardScaler(),GaussianNB())\n",
    "\n",
    "# Rejilla de búsqueda:\n",
    "Rejilla_Naive=GridSearchCV(Pipe_5,param_grid=espacio_param_naive,scoring=\"accuracy\",cv=cv,n_jobs=-1)\n",
    "Rejilla_Naive.fit(X,Y)\n",
    "\n",
    "# Imprimimos los resultados\n",
    "print(f\"Mejor calibración de los hiperparámetros: {Rejilla_Naive.best_params_}\")\n",
    "print(f\"Mejor valor de las métricas: {Rejilla_Naive.best_score_}\")\n",
    "bayes=Rejilla_Naive.best_score_"
   ]
  },
  {
   "attachments": {},
   "cell_type": "markdown",
   "metadata": {},
   "source": [
    "## <span style=\"color:blue\"> Maquinas de Vector Soporte (SVM)"
   ]
  },
  {
   "attachments": {},
   "cell_type": "markdown",
   "metadata": {},
   "source": [
    "### <span style=\"color:blue\"> Kernel Lineal"
   ]
  },
  {
   "cell_type": "code",
   "execution_count": 42,
   "metadata": {},
   "outputs": [
    {
     "name": "stdout",
     "output_type": "stream",
     "text": [
      "Mejor calibración de los hiperparámetros: {'knnimputer__n_neighbors': 1, 'linearsvc__C': 1e-06}\n",
      "Mejor valor de las métricas: 0.7968857388316151\n"
     ]
    }
   ],
   "source": [
    "#Calibramos el modelo mediante una busqueda por rejilla\n",
    "espacio_param_SVM={\"knnimputer__n_neighbors\":np.arange(1,15),\n",
    "                   \"linearsvc__C\":[0.000001,0.000001,0.00001,0.0001,0.001,0.01,0.1]}\n",
    "\n",
    "# Definimos la secuencia de pasos:\n",
    "PipeSVM=make_pipeline(KNNImputer(),StandardScaler(),LinearSVC(loss=\"hinge\"))\n",
    "\n",
    "# Rejilla de busqueda\n",
    "Rejilla_SVM=GridSearchCV(PipeSVM,param_grid=espacio_param_SVM,scoring=\"accuracy\",cv=cv,n_jobs=-1)\n",
    "Rejilla_SVM.fit(X,Y)\n",
    "\n",
    "# Imprimimos los resultados\n",
    "print(f\"Mejor calibración de los hiperparámetros: {Rejilla_SVM.best_params_}\")\n",
    "print(f\"Mejor valor de las métricas: {Rejilla_SVM.best_score_}\")\n",
    "klineal=Rejilla_SVM.best_score_"
   ]
  },
  {
   "attachments": {},
   "cell_type": "markdown",
   "metadata": {},
   "source": [
    "### <span style=\"color:blue\"> Kernel no Lineal"
   ]
  },
  {
   "cell_type": "code",
   "execution_count": 43,
   "metadata": {},
   "outputs": [
    {
     "name": "stdout",
     "output_type": "stream",
     "text": [
      "Mejor calibración de los hiperparámetros: {'knnimputer__n_neighbors': 1, 'svc__C': 0.1, 'svc__gamma': 0.2}\n",
      "Mejor valor de las métricas: 0.7975171821305842\n"
     ]
    }
   ],
   "source": [
    "# Calibramos el modelo\n",
    "espacio_param_rbf={\"knnimputer__n_neighbors\":np.arange(1,15),\n",
    "               \"svc__C\":[0.000001,0.000001,0.00001,0.0001,0.001,0.01,0.1],\n",
    "               \"svc__gamma\":[0.0001,0.001,0.01,0.1,0.15,0.2,0.3]}\n",
    "\n",
    "# Definimos la serie de pasos:\n",
    "pipe_gamma=make_pipeline(KNNImputer(),StandardScaler(),SVC(kernel=\"rbf\",))\n",
    "\n",
    "# Rejilla de busqueda\n",
    "rejilla_rbf=GridSearchCV(pipe_gamma,param_grid=espacio_param_rbf,scoring=\"accuracy\",cv=cv,n_jobs=-1)\n",
    "rejilla_rbf.fit(X,Y)\n",
    "\n",
    "# Imprimimos los resultados\n",
    "print(f\"Mejor calibración de los hiperparámetros: {rejilla_rbf.best_params_}\")\n",
    "print(f\"Mejor valor de las métricas: {rejilla_rbf.best_score_}\")\n",
    "krbf=rejilla_rbf.best_score_"
   ]
  },
  {
   "attachments": {},
   "cell_type": "markdown",
   "metadata": {},
   "source": [
    "## <span style=\"color:blue\"> K-Vecinos"
   ]
  },
  {
   "cell_type": "code",
   "execution_count": 44,
   "metadata": {},
   "outputs": [
    {
     "name": "stdout",
     "output_type": "stream",
     "text": [
      "Mejor calibración de los hiperparámetros: {'kneighborsclassifier__n_neighbors': 13, 'knnimputer__n_neighbors': 1}\n",
      "Mejor valor de las métricas: 0.796683848797251\n"
     ]
    }
   ],
   "source": [
    "# Vamos a calibrar el modelo a través de la búsqueda por rejilla:\n",
    "espacio_param_Knn={\"kneighborsclassifier__n_neighbors\":np.arange(1,20),\n",
    "                   \"knnimputer__n_neighbors\":np.arange(1,20)} \n",
    "\n",
    "# Definimos la secuencia de pasos para el modelo mediante un pipeline:\n",
    "Pipe_9=make_pipeline(KNNImputer(),StandardScaler(),KNeighborsClassifier())\n",
    "\n",
    "# Rejilla de busqueda\n",
    "Rejilla_Knn=GridSearchCV(Pipe_9,param_grid=espacio_param_Knn,scoring=\"accuracy\",cv=cv,n_jobs=-1)\n",
    "Rejilla_Knn.fit(X,Y)\n",
    "\n",
    "# Imprimimos los resultados\n",
    "print(f\"Mejor calibración de los hiperparámetros: {Rejilla_Knn.best_params_}\")\n",
    "print(f\"Mejor valor de las métricas: {Rejilla_Knn.best_score_}\")\n",
    "vecinos=Rejilla_Knn.best_score_"
   ]
  },
  {
   "attachments": {},
   "cell_type": "markdown",
   "metadata": {},
   "source": [
    "## <span style=\"color:blue\"> K-Vecinos Ponderados"
   ]
  },
  {
   "cell_type": "code",
   "execution_count": 45,
   "metadata": {},
   "outputs": [
    {
     "name": "stdout",
     "output_type": "stream",
     "text": [
      "Mejor calibración de los hiperparámetros: {'kneighborsclassifier__n_neighbors': 13, 'kneighborsclassifier__p': 1, 'kneighborsclassifier__weights': 'uniform'}\n",
      "Mejor valor de las métricas: 0.7981400343642612\n"
     ]
    }
   ],
   "source": [
    "# Vamos a calibrar el modelo a través de la búsqueda por rejilla:\n",
    "espacio_param_Knn_Pond={\"kneighborsclassifier__n_neighbors\":np.arange(1,20),\n",
    "                   \"kneighborsclassifier__weights\":[\"uniform\",\"distance\"],\n",
    "                   \"kneighborsclassifier__p\":np.arange(1,20)}\n",
    "\n",
    "# Definimos la secuencia de pasos para el modelo mediante un pipeline:\n",
    "Pipe_10=make_pipeline(KNNImputer(),StandardScaler(),KNeighborsClassifier())\n",
    "\n",
    "# Rejilla de busqueda\n",
    "Rejilla_Knn_Pond=GridSearchCV(Pipe_10,param_grid=espacio_param_Knn_Pond,scoring=\"accuracy\",cv=cv,n_jobs=-1)\n",
    "Rejilla_Knn_Pond.fit(X,Y)\n",
    "\n",
    "# Imprimimos los resultados\n",
    "print(f\"Mejor calibración de los hiperparámetros: {Rejilla_Knn_Pond.best_params_}\")\n",
    "print(f\"Mejor valor de las métricas: {Rejilla_Knn_Pond.best_score_}\")\n",
    "ponderados=Rejilla_Knn_Pond.best_score_"
   ]
  },
  {
   "attachments": {},
   "cell_type": "markdown",
   "metadata": {},
   "source": [
    "# <span style=\"color:blue\"><center> Comparación de la Exactitud\n",
    "\n",
    "#### Creamos un nuevo DataFrame en el cual se guardarán los valores obtenidos de la excatitud para cada modelo."
   ]
  },
  {
   "cell_type": "code",
   "execution_count": 46,
   "metadata": {},
   "outputs": [],
   "source": [
    "# comparaciones=pd.DataFrame()\n",
    "comparaciones[\"Modelos\"]=[\"Reg. Logística\", \"Árbol de Decisión\", \"Bosques Aleatorios\", \"Naive Bayes\", \"SVM Lineal\", \"SVM rbf\", \"K-Vecinos\", \"K-Vecinos Ponderados\"]\n",
    "# comparaciones[\"Accuracy - Kfolds\"]=[rlog,arbol,bosque,bayes,klineal,krbf,vecinos,ponderados]\n",
    "comparaciones[\"Accuracy - RepeatedKFolds\"]=[rlog,arbol,bosque,bayes,klineal,krbf,vecinos,ponderados]"
   ]
  },
  {
   "cell_type": "code",
   "execution_count": 47,
   "metadata": {},
   "outputs": [
    {
     "data": {
      "text/html": [
       "<div>\n",
       "<style scoped>\n",
       "    .dataframe tbody tr th:only-of-type {\n",
       "        vertical-align: middle;\n",
       "    }\n",
       "\n",
       "    .dataframe tbody tr th {\n",
       "        vertical-align: top;\n",
       "    }\n",
       "\n",
       "    .dataframe thead th {\n",
       "        text-align: right;\n",
       "    }\n",
       "</style>\n",
       "<table border=\"1\" class=\"dataframe\">\n",
       "  <thead>\n",
       "    <tr style=\"text-align: right;\">\n",
       "      <th></th>\n",
       "      <th>Modelos</th>\n",
       "      <th>Accuracy - Kfolds</th>\n",
       "      <th>Accuracy - RepeatedKFolds</th>\n",
       "    </tr>\n",
       "  </thead>\n",
       "  <tbody>\n",
       "    <tr>\n",
       "      <th>0</th>\n",
       "      <td>Reg. Logística</td>\n",
       "      <td>0.804424</td>\n",
       "      <td>0.801048</td>\n",
       "    </tr>\n",
       "    <tr>\n",
       "      <th>1</th>\n",
       "      <td>Árbol de Decisión</td>\n",
       "      <td>0.814820</td>\n",
       "      <td>0.808769</td>\n",
       "    </tr>\n",
       "    <tr>\n",
       "      <th>2</th>\n",
       "      <td>Bosques Aleatorios</td>\n",
       "      <td>0.811662</td>\n",
       "      <td>0.811263</td>\n",
       "    </tr>\n",
       "    <tr>\n",
       "      <th>3</th>\n",
       "      <td>Naive Bayes</td>\n",
       "      <td>0.785685</td>\n",
       "      <td>0.788984</td>\n",
       "    </tr>\n",
       "    <tr>\n",
       "      <th>4</th>\n",
       "      <td>SVM Lineal</td>\n",
       "      <td>0.797165</td>\n",
       "      <td>0.796886</td>\n",
       "    </tr>\n",
       "    <tr>\n",
       "      <th>5</th>\n",
       "      <td>SVM rbf</td>\n",
       "      <td>0.799216</td>\n",
       "      <td>0.797517</td>\n",
       "    </tr>\n",
       "    <tr>\n",
       "      <th>6</th>\n",
       "      <td>K-Vecinos</td>\n",
       "      <td>0.793976</td>\n",
       "      <td>0.796684</td>\n",
       "    </tr>\n",
       "    <tr>\n",
       "      <th>7</th>\n",
       "      <td>K-Vecinos Ponderados</td>\n",
       "      <td>0.792912</td>\n",
       "      <td>0.798140</td>\n",
       "    </tr>\n",
       "  </tbody>\n",
       "</table>\n",
       "</div>"
      ],
      "text/plain": [
       "                Modelos  Accuracy - Kfolds  Accuracy - RepeatedKFolds\n",
       "0        Reg. Logística           0.804424                   0.801048\n",
       "1     Árbol de Decisión           0.814820                   0.808769\n",
       "2    Bosques Aleatorios           0.811662                   0.811263\n",
       "3           Naive Bayes           0.785685                   0.788984\n",
       "4            SVM Lineal           0.797165                   0.796886\n",
       "5               SVM rbf           0.799216                   0.797517\n",
       "6             K-Vecinos           0.793976                   0.796684\n",
       "7  K-Vecinos Ponderados           0.792912                   0.798140"
      ]
     },
     "execution_count": 47,
     "metadata": {},
     "output_type": "execute_result"
    }
   ],
   "source": [
    "comparaciones"
   ]
  },
  {
   "attachments": {},
   "cell_type": "markdown",
   "metadata": {},
   "source": [
    "## <span style=\"color:blue\"><center> Red Neuronal: Perceptrón Simple Multicapa (MLP)"
   ]
  },
  {
   "cell_type": "code",
   "execution_count": 12,
   "metadata": {},
   "outputs": [],
   "source": [
    "# Dividimos el conjunto de datos en entrenamiento y prueba\n",
    "X_train,X_test,Y_train,Y_test=train_test_split(X,Y,test_size=0.2,random_state=1234)\n",
    "\n",
    "# Estandarizamos los atributos\n",
    "escalamiento=make_pipeline(KNNImputer(n_neighbors=6),StandardScaler())\n",
    "X_train=escalamiento.fit_transform(X_train)\n",
    "X_test=escalamiento.transform(X_test)"
   ]
  },
  {
   "attachments": {},
   "cell_type": "markdown",
   "metadata": {},
   "source": [
    "### <center>    Arquitectura del modelo"
   ]
  },
  {
   "cell_type": "code",
   "execution_count": 13,
   "metadata": {},
   "outputs": [],
   "source": [
    "modelo=Sequential()\n",
    "modelo.add(Dense(units=16, input_dim=X.shape[1], activation=\"relu\"))\n",
    "modelo.add(Dropout(0.3))\n",
    "modelo.add(Dense(units=12,activation=\"relu\"))\n",
    "modelo.add(Dropout(0.3))\n",
    "modelo.add(Dense(units=8,activation=\"relu\"))\n",
    "modelo.add(Dropout(0.3))\n",
    "modelo.add(Dense(units=1,activation=\"sigmoid\"))"
   ]
  },
  {
   "attachments": {},
   "cell_type": "markdown",
   "metadata": {},
   "source": [
    "### <center>    Compilación del modelo"
   ]
  },
  {
   "cell_type": "code",
   "execution_count": 14,
   "metadata": {},
   "outputs": [
    {
     "name": "stdout",
     "output_type": "stream",
     "text": [
      "Model: \"sequential\"\n",
      "_________________________________________________________________\n",
      " Layer (type)                Output Shape              Param #   \n",
      "=================================================================\n",
      " dense (Dense)               (None, 16)                80        \n",
      "                                                                 \n",
      " dropout (Dropout)           (None, 16)                0         \n",
      "                                                                 \n",
      " dense_1 (Dense)             (None, 12)                204       \n",
      "                                                                 \n",
      " dropout_1 (Dropout)         (None, 12)                0         \n",
      "                                                                 \n",
      " dense_2 (Dense)             (None, 8)                 104       \n",
      "                                                                 \n",
      " dropout_2 (Dropout)         (None, 8)                 0         \n",
      "                                                                 \n",
      " dense_3 (Dense)             (None, 1)                 9         \n",
      "                                                                 \n",
      "=================================================================\n",
      "Total params: 397\n",
      "Trainable params: 397\n",
      "Non-trainable params: 0\n",
      "_________________________________________________________________\n"
     ]
    }
   ],
   "source": [
    "modelo.compile(optimizer=\"adam\", loss=\"binary_crossentropy\",metrics=\"accuracy\")\n",
    "modelo.summary()"
   ]
  },
  {
   "attachments": {},
   "cell_type": "markdown",
   "metadata": {},
   "source": [
    "### <center>    Entrenamiento del modelo"
   ]
  },
  {
   "cell_type": "code",
   "execution_count": 15,
   "metadata": {},
   "outputs": [
    {
     "name": "stdout",
     "output_type": "stream",
     "text": [
      "Comenzando el entrenamiento del modelo...\n",
      "Entrenamiento finalizado\n"
     ]
    }
   ],
   "source": [
    "print(\"Comenzando el entrenamiento del modelo...\")\n",
    "historial=modelo.fit(X_train,Y_train,epochs=1000,batch_size=20,validation_data=(X_test,Y_test),verbose=False)\n",
    "print(\"Entrenamiento finalizado\")"
   ]
  },
  {
   "attachments": {},
   "cell_type": "markdown",
   "metadata": {},
   "source": [
    "### <center> Valores de la Precisión"
   ]
  },
  {
   "cell_type": "code",
   "execution_count": 16,
   "metadata": {},
   "outputs": [
    {
     "name": "stdout",
     "output_type": "stream",
     "text": [
      "Precisión máxima en el conjunto de entrenamiento: 0.828125\n",
      "Precisión máxima en el conjunto de validación: 0.818652868270874 \n",
      "\n",
      "Precisión promedio en el conjunto de entrenamiento: 0.828125\n",
      "Precisión promedio en el conjunto de validación: 0.818652868270874\n"
     ]
    }
   ],
   "source": [
    "print(f\"Precisión máxima en el conjunto de entrenamiento: {max(historial.history['accuracy'])}\")\n",
    "print(f\"Precisión máxima en el conjunto de validación: {max(historial.history['val_accuracy'])} \\n\")\n",
    "\n",
    "print(f\"Precisión promedio en el conjunto de entrenamiento: {max(historial.history['accuracy'])}\")\n",
    "print(f\"Precisión promedio en el conjunto de validación: {max(historial.history['val_accuracy'])}\")"
   ]
  },
  {
   "attachments": {},
   "cell_type": "markdown",
   "metadata": {},
   "source": [
    "### <center> Gráficas"
   ]
  },
  {
   "cell_type": "code",
   "execution_count": 17,
   "metadata": {},
   "outputs": [
    {
     "data": {
      "image/png": "[encoded data removed]",
      "text/plain": [
       "<Figure size 1500x700 with 2 Axes>"
      ]
     },
     "metadata": {},
     "output_type": "display_data"
    },
    {
     "data": {
      "text/plain": [
       "<Figure size 640x480 with 0 Axes>"
      ]
     },
     "metadata": {},
     "output_type": "display_data"
    }
   ],
   "source": [
    "plt.figure(figsize=(15,7))\n",
    "\n",
    "plt.subplot(1,2,1)\n",
    "plt.plot(historial.history['accuracy'])\n",
    "plt.plot(historial.history['val_accuracy'])\n",
    "plt.title('Precisión del modelo')\n",
    "plt.ylabel('Precisión')\n",
    "plt.xlabel('Época')\n",
    "plt.legend(['Entrenamiento', 'Validación'])\n",
    "\n",
    "\n",
    "plt.subplot(1,2,2)\n",
    "plt.plot(historial.history['loss'])\n",
    "plt.plot(historial.history['val_loss'])\n",
    "plt.title('Función de Pérdida')\n",
    "plt.ylabel('Loss')\n",
    "plt.xlabel('Época')\n",
    "plt.legend(['Entrenamiento', 'Validación'] )\n",
    "plt.show()\n",
    "\n",
    "plt.tight_layout()\n",
    "plt.show()"
   ]
  }
 ],
 "metadata": {
  "kernelspec": {
   "display_name": "Python 3",
   "language": "python",
   "name": "python3"
  },
  "language_info": {
   "codemirror_mode": {
    "name": "ipython",
    "version": 3
   },
   "file_extension": ".py",
   "mimetype": "text/x-python",
   "name": "python",
   "nbconvert_exporter": "python",
   "pygments_lexer": "ipython3",
   "version": "3.11.2"
  },
  "orig_nbformat": 4
 },
 "nbformat": 4,
 "nbformat_minor": 2
}
